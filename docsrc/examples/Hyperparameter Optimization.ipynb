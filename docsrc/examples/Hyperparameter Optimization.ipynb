{
    "cells": [
        {
            "cell_type": "code",
            "execution_count": null,
            "metadata": {},
            "outputs": [],
            "source": [
                "from scikit_stan import GLM\n",
                "\n",
                "import numpy as np\n",
                "import pandas as pd  # type: ignore\n",
                "\n",
                "import matplotlib as mpl\n",
                "import matplotlib.pyplot as plt\n",
                "\n",
                "from scipy.special import expit\n",
                "\n",
                "from sklearn.model_selection import GridSearchCV\n",
                "\n",
                "from pathlib import Path"
            ]
        },
        {
            "cell_type": "code",
            "execution_count": null,
            "metadata": {},
            "outputs": [],
            "source": [
                "mpl.rc('axes.spines', top=True, bottom=True, left=True, right=True)\n",
                "#mpl.rc('axes', facecolor='white')\n",
                "mpl.rc(\"xtick\", bottom=True, labelbottom=True)\n",
                "mpl.rc(\"ytick\", left=True, labelleft=True)\n",
                "mpl.style.use('ggplot')\n",
                "\n",
                "\n",
                "# center images\n",
                "from IPython.core.display import HTML\n",
                "HTML(\"\"\"\n",
                "<style>\n",
                ".jp-RenderedImage, .output_png{\n",
                "    display: table-cell;\n",
                "    text-align: center;\n",
                "    vertical-align: middle;\n",
                "}\n",
                "</style>\n",
                "\"\"\")\n"
            ]
        },
        {
            "cell_type": "markdown",
            "metadata": {},
            "source": [
                "This package integrates with sklearn optimization algorithms to optimize hyperparameters. In particular, the space of distributions and distribution parameters, which serve as the hyperparameters of the Bayesian model, can be optimized across with grid search. What's more, this optimization can be perfomed at a higher meta level by working with hyperpriors and tuning hyperhyperparameters. We give an example of using sk-learn's GridSearchCV to perform hyperparameter optimization and demonstrate how the package integrates with the rest of the sk-learn ecosystem."
            ]
        },
        {
            "cell_type": "markdown",
            "metadata": {},
            "source": [
                "Keeping the priors on the regression coefficients at the default autoscaled normal, we perform a grid search over \n",
                "1. The error scale of the intercept's prior distribution, represented by $\\sigma_\\alpha$,     \n",
                "2. The error scale for the family of $y$, represented by $\\sigma_y$.\n",
                "\n",
                "\n",
                "\n",
                "NOTE: In principle, this problem could be a two level hyperparameter optimization problem: an optimization over the hyperparameter $\\sigma_\\alpha$ and then an optimization over the distribution parameter for $\\sigma_\\alpha$. Keep it simple for now...  "
            ]
        },
        {
            "cell_type": "code",
            "execution_count": null,
            "metadata": {},
            "outputs": [],
            "source": [
                "# Import radon data\n",
                "# based on: https://mc-stan.org/users/documentation/case-studies/radon.html\n",
                "srrs2 = pd.read_csv(Path.cwd() / \"data\" / \"srrs2.dat\")\n",
                "srrs2.columns = srrs2.columns.map(str.strip)\n",
                "srrs_mn = srrs2.assign(fips=srrs2.stfips*1000 + srrs2.cntyfips)[srrs2.state=='MN']"
            ]
        },
        {
            "cell_type": "code",
            "execution_count": null,
            "metadata": {},
            "outputs": [],
            "source": [
                "cty = pd.read_csv(Path.cwd() / \"data\" / \"cty.dat\")\n",
                "cty_mn = cty[cty.st=='MN'].copy()\n",
                "cty_mn[ 'fips'] = 1000*cty_mn.stfips + cty_mn.ctfips"
            ]
        },
        {
            "cell_type": "code",
            "execution_count": null,
            "metadata": {},
            "outputs": [],
            "source": [
                "srrs_mn = srrs_mn.merge(cty_mn[['fips', 'Uppm']], on='fips')\n",
                "srrs_mn = srrs_mn.drop_duplicates(subset='idnum')\n",
                "u = np.log(srrs_mn.Uppm)\n",
                "\n",
                "n = len(srrs_mn)"
            ]
        },
        {
            "cell_type": "code",
            "execution_count": null,
            "metadata": {},
            "outputs": [],
            "source": [
                "srrs_mn.county = srrs_mn.county.str.strip()\n",
                "mn_counties = srrs_mn.county.unique()\n",
                "counties = len(mn_counties)"
            ]
        },
        {
            "cell_type": "code",
            "execution_count": null,
            "metadata": {},
            "outputs": [],
            "source": [
                "county_lookup = dict(zip(mn_counties, range(len(mn_counties))))\n",
                "county = srrs_mn['county_code'] = srrs_mn.county.replace(county_lookup).values\n",
                "radon = srrs_mn.activity\n",
                "srrs_mn['log_radon'] = log_radon = np.log(radon + 0.1).values\n",
                "floor_measure = srrs_mn.floor.values"
            ]
        },
        {
            "cell_type": "code",
            "execution_count": null,
            "metadata": {},
            "outputs": [],
            "source": [
                "srrs_mn.activity.apply(lambda x: np.log(x+0.1)).hist(bins=25)"
            ]
        },
        {
            "cell_type": "code",
            "execution_count": null,
            "metadata": {},
            "outputs": [],
            "source": [
                "glm = GLM(family=\"gaussian\", link=\"identity\")\n",
                "\n",
                "fitted = glm.fit(floor_measure, log_radon)\n",
                "xvals = np.linspace(-0.2, 1.2)\n",
                "plt.scatter(srrs_mn.floor, np.log(srrs_mn.activity+0.1))\n",
                "\n",
                "plt.plot(xvals, fitted.alpha_ + fitted.beta_*xvals, 'r--') \n"
            ]
        },
        {
            "cell_type": "markdown",
            "metadata": {},
            "source": [
                "##### Varying Slope Model "
            ]
        },
        {
            "cell_type": "code",
            "execution_count": null,
            "metadata": {},
            "outputs": [],
            "source": [
                "%%capture\n",
                "# this actually is a hyperhyperparameter optimization problem\n",
                "# optimize over prior_aux_param, which is a hyperhyperparameter \n",
                "# as it is the hyperparameter for the prior for sigma, which is used \n",
                "# as a parameter in the family distribution   \n",
                "glm_opt = GLM(family=\"gaussian\", link=\"identity\")\n",
                "\n",
                "param_range = np.linspace(0.1, 1, 5)\n",
                "\n",
                "param_grid = {\n",
                "        \"prior_aux\" :\n",
                "            list({\n",
                "                \"prior_aux_dist\": \"exponential\", \n",
                "\n",
                "                \"prior_aux_param\": aux_val\n",
                "            }\n",
                "            for aux_val in param_range)\n",
                "}\n",
                "\n",
                "\n",
                "grid_search = GridSearchCV(glm, param_grid=param_grid);\n",
                "\n",
                "searched = grid_search.fit(floor_measure, log_radon);\n",
                "\n",
                "\n",
                "print(grid_search.cv_results_)\n",
                "\n",
                "#fitted = glm.fit(X=floor_measure, y=log_radon);\n",
                "\n",
                "#fitted.alpha_, fitted.beta_, fitted.sigma_"
            ]
        },
        {
            "cell_type": "code",
            "execution_count": null,
            "metadata": {},
            "outputs": [],
            "source": [
                "%%capture\n",
                "# this actually is a hyperhyperparameter optimization problem\n",
                "# optimize over prior_aux_param, which is a hyperhyperparameter \n",
                "# as it is the hyperparameter for the prior for sigma, which is used \n",
                "# as a parameter in the family distribution   \n",
                "glm_opt2 = GLM(family=\"gaussian\", link=\"identity\")\n",
                "\n",
                "param_range = np.linspace(0.1, 0.5, 5)\n",
                "\n",
                "param_grid = {\n",
                "        \"prior_intercept\" :\n",
                "            list({\n",
                "                \"prior_intercept_dist\": \"normal\", \n",
                "\n",
                "                \"prior_intercept_mu\": 1.5,\n",
                "\n",
                "                \"prior_intercept_sigma\": sigma_alpha_val\n",
                "            }\n",
                "            for sigma_alpha_val in param_range)\n",
                "}\n",
                "\n",
                "\n",
                "grid_search2 = GridSearchCV(glm, param_grid=param_grid);\n",
                "\n",
                "searched = grid_search2.fit(floor_measure, log_radon);\n",
                "\n",
                "\n",
                "print(grid_search.cv_results_)\n",
                "\n",
                "#fitted = glm.fit(X=floor_measure, y=log_radon);\n",
                "\n",
                "#fitted.alpha_, fitted.beta_, fitted.sigma_"
            ]
        },
        {
            "cell_type": "code",
            "execution_count": null,
            "metadata": {},
            "outputs": [],
            "source": [
                "gs_rez2 = grid_search2.cv_results_\n",
                "gs_rez2\n"
            ]
        },
        {
            "cell_type": "code",
            "execution_count": null,
            "metadata": {},
            "outputs": [],
            "source": [
                "gs_rez = grid_search.cv_results_\n",
                "gs_rez\n"
            ]
        },
        {
            "cell_type": "code",
            "execution_count": null,
            "metadata": {},
            "outputs": [],
            "source": [
                "mean_y = gs_rez2['mean_test_score']\n",
                "plt.plot(param_range, mean_y[::-1])\n",
                "plt.ylabel(\"Mean Test Score\")\n",
                "plt.xlabel(f\"Prior Intercept $\\sigma_\\\\alpha$ Parameter\")\n",
                "plt.title(f\"Score with Gridsearch on Prior Intercept $\\sigma_\\\\alpha$ Parameter\")"
            ]
        },
        {
            "cell_type": "code",
            "execution_count": null,
            "metadata": {},
            "outputs": [],
            "source": [
                "glm.fit(floor_measure, log_radon)"
            ]
        },
        {
            "cell_type": "code",
            "execution_count": null,
            "metadata": {},
            "outputs": [],
            "source": [
                "glm.alpha_, glm.beta_, glm.sigma_"
            ]
        },
        {
            "cell_type": "code",
            "execution_count": null,
            "metadata": {},
            "outputs": [],
            "source": [
                "import arviz as az\n",
                "az.style.use(\"arviz-darkgrid\")"
            ]
        },
        {
            "cell_type": "code",
            "execution_count": null,
            "metadata": {},
            "outputs": [],
            "source": [
                "t =az.from_cmdstanpy(fitted.fitted_samples_)\n",
                "az.plot_trace(t, var_names=[\"alpha\", \"beta\", \"sigma\"])"
            ]
        }
    ],
    "metadata": {
        "kernelspec": {
            "display_name": "Python 3.7.12 ('intern')",
            "language": "python",
            "name": "python3"
        },
        "language_info": {
            "codemirror_mode": {
                "name": "ipython",
                "version": 3
            },
            "file_extension": ".py",
            "mimetype": "text/x-python",
            "name": "python",
            "nbconvert_exporter": "python",
            "pygments_lexer": "ipython3",
            "version": "3.7.12"
        },
        "orig_nbformat": 4,
        "vscode": {
            "interpreter": {
                "hash": "ac9bdc2973754fe4cc8521296175e09cae6b6b40a4770c7a08198029c30428f7"
            }
        }
    },
    "nbformat": 4,
    "nbformat_minor": 2
}
