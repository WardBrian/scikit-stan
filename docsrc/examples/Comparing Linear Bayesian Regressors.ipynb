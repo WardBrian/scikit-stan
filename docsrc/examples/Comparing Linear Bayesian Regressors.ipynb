{
 "cells": [
  {
   "cell_type": "code",
   "execution_count": 1,
   "metadata": {},
   "outputs": [
    {
     "name": "stderr",
     "output_type": "stream",
     "text": [
      "c:\\Users\\alizm\\anaconda3\\envs\\intern\\lib\\site-packages\\tqdm\\auto.py:22: TqdmWarning: IProgress not found. Please update jupyter and ipywidgets. See https://ipywidgets.readthedocs.io/en/stable/user_install.html\n",
      "  from .autonotebook import tqdm as notebook_tqdm\n"
     ]
    }
   ],
   "source": [
    "from scikit_stan import GLM\n",
    "\n",
    "import numpy as np\n",
    "import pandas as pd\n",
    "\n",
    "import matplotlib as mpl\n",
    "import matplotlib.pyplot as plt"
   ]
  },
  {
   "cell_type": "code",
   "execution_count": 2,
   "metadata": {},
   "outputs": [
    {
     "data": {
      "text/html": [
       "\n",
       "<style>\n",
       ".jp-RenderedImage, .output_png{\n",
       "    display: table-cell;\n",
       "    text-align: center;\n",
       "    vertical-align: middle;\n",
       "}\n",
       "</style>\n"
      ],
      "text/plain": [
       "<IPython.core.display.HTML object>"
      ]
     },
     "execution_count": 2,
     "metadata": {},
     "output_type": "execute_result"
    }
   ],
   "source": [
    "mpl.rc('axes.spines', top=True, bottom=True, left=True, right=True)\n",
    "#mpl.rc('axes', facecolor='white')\n",
    "mpl.rc(\"xtick\", bottom=True, labelbottom=True)\n",
    "mpl.rc(\"ytick\", left=True, labelleft=True)\n",
    "mpl.style.use('ggplot')\n",
    "\n",
    "\n",
    "# center images\n",
    "from IPython.core.display import HTML\n",
    "HTML(\"\"\"\n",
    "<style>\n",
    ".jp-RenderedImage, .output_png{\n",
    "    display: table-cell;\n",
    "    text-align: center;\n",
    "    vertical-align: middle;\n",
    "}\n",
    "</style>\n",
    "\"\"\")"
   ]
  },
  {
   "cell_type": "code",
   "execution_count": 10,
   "metadata": {},
   "outputs": [],
   "source": [
    "from sklearn.datasets import make_regression\n",
    "\n",
    "X, y, true_weights = make_regression(\n",
    "    n_samples=100,\n",
    "    n_features=100,\n",
    "    n_informative=10,\n",
    "    noise=8,\n",
    "    coef=True,\n",
    "    random_state=42,\n",
    ")"
   ]
  },
  {
   "cell_type": "code",
   "execution_count": 11,
   "metadata": {},
   "outputs": [
    {
     "name": "stderr",
     "output_type": "stream",
     "text": [
      "c:\\users\\alizm\\documents\\flatironinstitute\\scikit-stan\\scikit_stan\\generalized_linear_regression\\glm.py:425: UserWarning: \n",
      "                    Link function not specified. Using default link function 'identity'\n",
      "                    for family 'gaussian'.\n",
      "                \n",
      "  \"\"\"\n",
      "c:\\users\\alizm\\documents\\flatironinstitute\\scikit-stan\\scikit_stan\\generalized_linear_regression\\glm.py:520: UserWarning: Prior on intercept not specified. Using default prior.\n",
      "                alpha ~ normal(mu(y), 2.5 * sd(y)) if Gaussian family else normal(0, 2.5)\n",
      "  alpha ~ normal(mu(y), 2.5 * sd(y)) if Gaussian family else normal(0, 2.5)\"\"\"\n",
      "c:\\users\\alizm\\documents\\flatironinstitute\\scikit-stan\\scikit_stan\\generalized_linear_regression\\glm.py:566: UserWarning: Prior on auxiliary parameter not specified. Using default unscaled prior\n",
      "                        sigma ~ exponential(1)\n",
      "                    \n",
      "  \"\"\"\n",
      "21:59:20 - cmdstanpy - INFO - CmdStan start processing\n",
      "chain 1 |\u001b[33m          \u001b[0m| 00:00 Status\n",
      "\u001b[A\n",
      "\n",
      "chain 1 |\u001b[33m▉         \u001b[0m| 00:00 Iteration:    1 / 2000 [  0%]  (Warmup)\n",
      "\u001b[A\n",
      "\n",
      "chain 1 |\u001b[33m██▋       \u001b[0m| 00:00 Iteration:  400 / 2000 [ 20%]  (Warmup)\n",
      "\u001b[A\n",
      "\n",
      "chain 1 |\u001b[33m█████     \u001b[0m| 00:00 Iteration:  900 / 2000 [ 45%]  (Warmup)\n",
      "\u001b[A\n",
      "\n",
      "chain 1 |\u001b[34m██████▊   \u001b[0m| 00:00 Iteration: 1200 / 2000 [ 60%]  (Sampling)\n",
      "\u001b[A\n",
      "\n",
      "chain 1 |\u001b[34m████████▏ \u001b[0m| 00:01 Iteration: 1500 / 2000 [ 75%]  (Sampling)\n",
      "\u001b[A\n",
      "\n",
      "\u001b[A\u001b[A\n",
      "chain 1 |\u001b[34m█████████▌\u001b[0m| 00:01 Iteration: 1800 / 2000 [ 90%]  (Sampling)\n",
      "\n",
      "\u001b[A\u001b[A\n",
      "\u001b[A\n",
      "\n",
      "chain 1 |\u001b[34m██████████\u001b[0m| 00:01 Sampling completed                       \n",
      "chain 2 |\u001b[34m██████████\u001b[0m| 00:01 Sampling completed                       \n",
      "chain 3 |\u001b[34m██████████\u001b[0m| 00:01 Sampling completed                       \n",
      "chain 4 |\u001b[34m██████████\u001b[0m| 00:01 Sampling completed                       "
     ]
    },
    {
     "name": "stdout",
     "output_type": "stream",
     "text": [
      "                                                                                                                                                                                                                                                                                                                                "
     ]
    },
    {
     "name": "stderr",
     "output_type": "stream",
     "text": [
      "\n",
      "21:59:21 - cmdstanpy - INFO - CmdStan done processing.\n"
     ]
    },
    {
     "name": "stdout",
     "output_type": "stream",
     "text": [
      "\n"
     ]
    }
   ],
   "source": [
    "from sklearn.linear_model import ARDRegression, LinearRegression, BayesianRidge\n",
    "\n",
    "olr = LinearRegression().fit(X, y)\n",
    "brr = BayesianRidge(compute_score=True, n_iter=30).fit(X, y)\n",
    "ard = ARDRegression(compute_score=True, n_iter=30).fit(X, y)\n",
    "glm = GLM().fit(X, y)"
   ]
  },
  {
   "cell_type": "code",
   "execution_count": 12,
   "metadata": {},
   "outputs": [
    {
     "data": {
      "image/png": "[encoded data removed]",
      "text/plain": [
       "<Figure size 720x432 with 2 Axes>"
      ]
     },
     "metadata": {
      "needs_background": "light"
     },
     "output_type": "display_data"
    }
   ],
   "source": [
    "import seaborn as sns\n",
    "from matplotlib.colors import SymLogNorm\n",
    "\n",
    "df = pd.DataFrame(\n",
    "    {\n",
    "        \"True process weights\": true_weights,\n",
    "        \"ARDRegression\": ard.coef_,\n",
    "        \"BayesianRidge\": brr.coef_,\n",
    "        \"LinearRegression\": olr.coef_,\n",
    "        \"scikit_stan GLM\": glm.beta_\n",
    "    }\n",
    ")\n",
    "\n",
    "plt.figure(figsize=(10, 6))\n",
    "ax = sns.heatmap(\n",
    "    df.T,\n",
    "    norm=SymLogNorm(linthresh=10e-4, vmin=-80, vmax=80),\n",
    "    cbar_kws={\"label\": \"coefficients' values\"},\n",
    "    cmap=\"seismic_r\",\n",
    ")\n",
    "plt.ylabel(\"linear model\")\n",
    "plt.xlabel(\"coefficients\")\n",
    "plt.tight_layout(rect=(0, 0, 1, 0.95))\n",
    "_ = plt.title(\"Models' coefficients\")"
   ]
  },
  {
   "cell_type": "code",
   "execution_count": 13,
   "metadata": {},
   "outputs": [],
   "source": [
    "from sklearn.pipeline import make_pipeline\n",
    "from sklearn.preprocessing import PolynomialFeatures, StandardScaler\n",
    "\n",
    "rng = np.random.RandomState(0)\n",
    "n_samples = 110\n",
    "\n",
    "# sort the data to make plotting easier later\n",
    "X = np.sort(-10 * rng.rand(n_samples) + 10)\n",
    "noise = rng.normal(0, 1, n_samples) * 1.35\n",
    "y = np.sqrt(X) * np.sin(X) + noise\n",
    "full_data = pd.DataFrame({\"input_feature\": X, \"target\": y})\n",
    "X = X.reshape((-1, 1))\n",
    "\n",
    "# extrapolation\n",
    "X_plot = np.linspace(10, 10.4, 10)\n",
    "y_plot = np.sqrt(X_plot) * np.sin(X_plot)\n",
    "X_plot = np.concatenate((X, X_plot.reshape((-1, 1))))\n",
    "y_plot = np.concatenate((y - noise, y_plot))"
   ]
  },
  {
   "cell_type": "code",
   "execution_count": 14,
   "metadata": {},
   "outputs": [
    {
     "name": "stderr",
     "output_type": "stream",
     "text": [
      "c:\\users\\alizm\\documents\\flatironinstitute\\scikit-stan\\scikit_stan\\generalized_linear_regression\\glm.py:425: UserWarning: \n",
      "                    Link function not specified. Using default link function 'identity'\n",
      "                    for family 'gaussian'.\n",
      "                \n",
      "  \"\"\"\n",
      "c:\\users\\alizm\\documents\\flatironinstitute\\scikit-stan\\scikit_stan\\generalized_linear_regression\\glm.py:520: UserWarning: Prior on intercept not specified. Using default prior.\n",
      "                alpha ~ normal(mu(y), 2.5 * sd(y)) if Gaussian family else normal(0, 2.5)\n",
      "  alpha ~ normal(mu(y), 2.5 * sd(y)) if Gaussian family else normal(0, 2.5)\"\"\"\n",
      "c:\\users\\alizm\\documents\\flatironinstitute\\scikit-stan\\scikit_stan\\generalized_linear_regression\\glm.py:566: UserWarning: Prior on auxiliary parameter not specified. Using default unscaled prior\n",
      "                        sigma ~ exponential(1)\n",
      "                    \n",
      "  \"\"\"\n",
      "21:59:27 - cmdstanpy - INFO - CmdStan start processing\n",
      "chain 1 |\u001b[33m          \u001b[0m| 00:00 Status\n",
      "\u001b[A\n",
      "\n",
      "chain 1 |\u001b[33m▉         \u001b[0m| 00:00 Iteration:    1 / 2000 [  0%]  (Warmup)\n",
      "\u001b[A\n",
      "\n",
      "\u001b[A\u001b[A\n",
      "\u001b[A\n",
      "\n",
      "chain 1 |\u001b[33m█▊        \u001b[0m| 00:00 Iteration:  200 / 2000 [ 10%]  (Warmup)\n",
      "\u001b[A\n",
      "\n",
      "\u001b[A\u001b[A\n",
      "chain 1 |\u001b[33m██▎       \u001b[0m| 00:00 Iteration:  300 / 2000 [ 15%]  (Warmup)\n",
      "\n",
      "\u001b[A\u001b[A\n",
      "chain 1 |\u001b[33m██▋       \u001b[0m| 00:00 Iteration:  400 / 2000 [ 20%]  (Warmup)\n",
      "\n",
      "chain 1 |\u001b[33m███▏      \u001b[0m| 00:00 Iteration:  500 / 2000 [ 25%]  (Warmup)\n",
      "\u001b[A\n",
      "\n",
      "\u001b[A\u001b[A\n",
      "chain 1 |\u001b[33m███▋      \u001b[0m| 00:01 Iteration:  600 / 2000 [ 30%]  (Warmup)\n",
      "\n",
      "\u001b[A\u001b[A\n",
      "chain 1 |\u001b[33m████      \u001b[0m| 00:01 Iteration:  700 / 2000 [ 35%]  (Warmup)\n",
      "\n",
      "\u001b[A\u001b[A\n",
      "chain 1 |\u001b[33m█████     \u001b[0m| 00:01 Iteration:  900 / 2000 [ 45%]  (Warmup)\n",
      "\u001b[A\n",
      "\n",
      "\u001b[A\u001b[A\n",
      "\n",
      "chain 1 |\u001b[34m█████▉    \u001b[0m| 00:01 Iteration: 1001 / 2000 [ 50%]  (Sampling)\n",
      "\u001b[A\n",
      "\n",
      "chain 1 |\u001b[34m██████▎   \u001b[0m| 00:01 Iteration: 1100 / 2000 [ 55%]  (Sampling)\n",
      "\u001b[A\n",
      "\n",
      "chain 1 |\u001b[34m██████▊   \u001b[0m| 00:02 Iteration: 1200 / 2000 [ 60%]  (Sampling)\n",
      "\u001b[A\n",
      "\n",
      "chain 1 |\u001b[34m███████▎  \u001b[0m| 00:02 Iteration: 1300 / 2000 [ 65%]  (Sampling)\n",
      "\u001b[A\n",
      "\n",
      "chain 1 |\u001b[34m███████▋  \u001b[0m| 00:02 Iteration: 1400 / 2000 [ 70%]  (Sampling)\n",
      "\n",
      "\u001b[A\u001b[A\n",
      "chain 1 |\u001b[34m████████▏ \u001b[0m| 00:02 Iteration: 1500 / 2000 [ 75%]  (Sampling)\n",
      "\n",
      "\u001b[A\u001b[A\n",
      "chain 1 |\u001b[34m████████▋ \u001b[0m| 00:02 Iteration: 1600 / 2000 [ 80%]  (Sampling)\n",
      "\n",
      "\u001b[A\u001b[A\n",
      "chain 1 |\u001b[34m█████████ \u001b[0m| 00:02 Iteration: 1700 / 2000 [ 85%]  (Sampling)\n",
      "\n",
      "\u001b[A\u001b[A\n",
      "chain 1 |\u001b[34m█████████▌\u001b[0m| 00:03 Iteration: 1800 / 2000 [ 90%]  (Sampling)\n",
      "\n",
      "chain 1 |\u001b[34m██████████\u001b[0m| 00:03 Iteration: 1900 / 2000 [ 95%]  (Sampling)\n",
      "\u001b[A\n",
      "chain 1 |\u001b[34m██████████\u001b[0m| 00:03 Sampling completed                       \n",
      "chain 2 |\u001b[34m██████████\u001b[0m| 00:03 Sampling completed                       \n",
      "chain 3 |\u001b[34m██████████\u001b[0m| 00:03 Sampling completed                       \n",
      "chain 4 |\u001b[34m██████████\u001b[0m| 00:03 Sampling completed                       "
     ]
    },
    {
     "name": "stdout",
     "output_type": "stream",
     "text": [
      "                                                                                                                                                                                                                                                                                                                                "
     ]
    },
    {
     "name": "stderr",
     "output_type": "stream",
     "text": [
      "\n",
      "21:59:30 - cmdstanpy - INFO - CmdStan done processing.\n"
     ]
    },
    {
     "name": "stdout",
     "output_type": "stream",
     "text": [
      "\n"
     ]
    },
    {
     "name": "stderr",
     "output_type": "stream",
     "text": [
      "21:59:31 - cmdstanpy - INFO - Chain [1] start processing\n",
      "21:59:31 - cmdstanpy - INFO - Chain [2] start processing\n",
      "21:59:31 - cmdstanpy - INFO - Chain [3] start processing\n",
      "21:59:31 - cmdstanpy - INFO - Chain [4] start processing\n",
      "21:59:32 - cmdstanpy - INFO - Chain [3] done processing\n",
      "21:59:32 - cmdstanpy - INFO - Chain [2] done processing\n",
      "21:59:32 - cmdstanpy - INFO - Chain [1] done processing\n",
      "21:59:32 - cmdstanpy - INFO - Chain [4] done processing\n"
     ]
    }
   ],
   "source": [
    "ard_poly = make_pipeline(\n",
    "    PolynomialFeatures(degree=10, include_bias=False),\n",
    "    StandardScaler(),\n",
    "    ARDRegression(),\n",
    ").fit(X, y)\n",
    "y_ard, y_ard_std = ard_poly.predict(X_plot, return_std=True)\n",
    "\n",
    "glm_poly = make_pipeline(\n",
    "    PolynomialFeatures(degree=10, include_bias=False),\n",
    "    StandardScaler(),\n",
    "    GLM()\n",
    ").fit(X, y)\n",
    "\n",
    "y_glm, y_glm_std = glm_poly.predict(X_plot, return_std=True)"
   ]
  },
  {
   "cell_type": "code",
   "execution_count": 16,
   "metadata": {},
   "outputs": [
    {
     "data": {
      "image/png": "[encoded data removed]",
      "text/plain": [
       "<Figure size 432x288 with 1 Axes>"
      ]
     },
     "metadata": {
      "needs_background": "light"
     },
     "output_type": "display_data"
    }
   ],
   "source": [
    "ax = sns.scatterplot(\n",
    "    data=full_data, x=\"input_feature\", y=\"target\", color=\"black\", alpha=0.75\n",
    ")\n",
    "ax.plot(X_plot, y_plot, color=\"black\", label=\"Ground Truth\")\n",
    "ax.plot(X_plot, y_glm, color=\"red\", label=\"scikit_stan GLM with polynomial features\")\n",
    "ax.plot(X_plot, y_ard, color=\"navy\", label=\"ARD with polynomial features\")\n",
    "ax.fill_between(\n",
    "    X_plot.ravel(),\n",
    "    y_ard - y_ard_std,\n",
    "    y_ard + y_ard_std,\n",
    "    color=\"navy\",\n",
    "    alpha=0.3,\n",
    ")\n",
    "ax.fill_between(\n",
    "    X_plot.ravel(),\n",
    "    y_glm - y_glm_std,\n",
    "    y_glm + y_glm_std,\n",
    "    color=\"red\",\n",
    "    alpha=0.3,\n",
    ")\n",
    "ax.legend()\n",
    "_ = ax.set_title(\"Polynomial fit of a non-linear feature\")"
   ]
  },
  {
   "cell_type": "code",
   "execution_count": null,
   "metadata": {},
   "outputs": [],
   "source": []
  },
  {
   "cell_type": "code",
   "execution_count": null,
   "metadata": {},
   "outputs": [],
   "source": []
  }
 ],
 "metadata": {
  "kernelspec": {
   "display_name": "Python 3.7.13 ('intern')",
   "language": "python",
   "name": "python3"
  },
  "language_info": {
   "codemirror_mode": {
    "name": "ipython",
    "version": 3
   },
   "file_extension": ".py",
   "mimetype": "text/x-python",
   "name": "python",
   "nbconvert_exporter": "python",
   "pygments_lexer": "ipython3",
   "version": "3.7.13"
  },
  "orig_nbformat": 4,
  "vscode": {
   "interpreter": {
    "hash": "160f8a19148fea9a7cf8ea4744d98c012bbc4693e4d32de3466f175967d43183"
   }
  }
 },
 "nbformat": 4,
 "nbformat_minor": 2
}
