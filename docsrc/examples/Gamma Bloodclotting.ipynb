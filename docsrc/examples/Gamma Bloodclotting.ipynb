{
    "cells": [
        {
            "cell_type": "markdown",
            "metadata": {},
            "source": [
                "# Gamma regression for blood clotting"
            ]
        },
        {
            "cell_type": "code",
            "execution_count": 1,
            "metadata": {},
            "outputs": [
                {
                    "name": "stderr",
                    "output_type": "stream",
                    "text": [
                        "c:\\Users\\alizm\\anaconda3\\envs\\cmdstan\\lib\\site-packages\\tqdm\\auto.py:22: TqdmWarning: IProgress not found. Please update jupyter and ipywidgets. See https://ipywidgets.readthedocs.io/en/stable/user_install.html\n",
                        "  from .autonotebook import tqdm as notebook_tqdm\n"
                    ]
                }
            ],
            "source": [
                "\n",
                "from scikit_stan import GLM\n",
                "\n",
                "import numpy as np\n",
                "import pandas as pd\n",
                "\n",
                "import matplotlib as mpl\n",
                "import matplotlib.pyplot as plt"
            ]
        },
        {
            "cell_type": "code",
            "execution_count": 2,
            "metadata": {},
            "outputs": [],
            "source": [
                "import matplotlib as mpl\n",
                "import matplotlib.pyplot as plt"
            ]
        },
        {
            "cell_type": "code",
            "execution_count": 3,
            "metadata": {},
            "outputs": [
                {
                    "data": {
                        "text/html": [
                            "\n",
                            "<style>\n",
                            ".jp-RenderedImage, .output_png{\n",
                            "    display: table-cell;\n",
                            "    text-align: center;\n",
                            "    vertical-align: middle;\n",
                            "}\n",
                            "</style>\n"
                        ],
                        "text/plain": [
                            "<IPython.core.display.HTML object>"
                        ]
                    },
                    "execution_count": 3,
                    "metadata": {},
                    "output_type": "execute_result"
                }
            ],
            "source": [
                "mpl.rc('axes.spines', top=True, bottom=True, left=True, right=True)\n",
                "#mpl.rc('axes', facecolor='white')\n",
                "mpl.rc(\"xtick\", bottom=True, labelbottom=True)\n",
                "mpl.rc(\"ytick\", left=True, labelleft=True)\n",
                "mpl.style.use('ggplot')\n",
                "\n",
                "\n",
                "# center images\n",
                "from IPython.core.display import HTML\n",
                "HTML(\"\"\"\n",
                "<style>\n",
                ".jp-RenderedImage, .output_png{\n",
                "    display: table-cell;\n",
                "    text-align: center;\n",
                "    vertical-align: middle;\n",
                "}\n",
                "</style>\n",
                "\"\"\")"
            ]
        },
        {
            "cell_type": "markdown",
            "metadata": {},
            "source": [
                "As a preliminary example of this package's functionality, we provide an example of performing a Gamma regression, which is used when the response variable is continuous and positive. We have adapted the following canonical example of a Gamma regression from McCullagh & Nelder (1989). \n",
                "\n",
                "Nine different percentage concentrations with prothrombin-free plasma ($u$) and clotting was induced via two lots of thromboplastin. Previous researchers had fitted a hyperbolic model, using an inverse transformation of the data for both lots $1$ and $2$, but we will analyze both lots using the inverse link and Gamma family. \n",
                "\n",
                "The following initial plots hint at using a log scale for $u$ to achieve inverse linearity, as well as the fact that the two lots have different regression and intercept coefficients. "
            ]
        },
        {
            "cell_type": "code",
            "execution_count": 4,
            "metadata": {},
            "outputs": [],
            "source": [
                "# ATTRIBUTION: McCullagh & Nelder (1989), chapter 8.4.2 p 301-302\n",
                "bcdata_dict = {\n",
                "    \"u\": np.array([5, 10, 15, 20, 30, 40, 60, 80, 100]),\n",
                "    \"lot1\": np.array([118, 58, 42, 35, 27, 25, 21, 19, 18]),\n",
                "    \"lot2\": np.array([69, 35, 26, 21, 18, 16, 13, 12, 12]),\n",
                "}\n",
                "bc_data_X = np.log(bcdata_dict[\"u\"])\n",
                "bc_data_lot1 = bcdata_dict[\"lot1\"]\n",
                "bc_data_lot2 = bcdata_dict[\"lot2\"]"
            ]
        },
        {
            "cell_type": "code",
            "execution_count": 5,
            "metadata": {},
            "outputs": [
                {
                    "data": {
                        "text/plain": [
                            "<matplotlib.legend.Legend at 0x151bef2a260>"
                        ]
                    },
                    "execution_count": 5,
                    "metadata": {},
                    "output_type": "execute_result"
                },
                {
                    "data": {
                        "image/png": "[encoded data removed]",
                        "text/plain": [
                            "<Figure size 432x288 with 1 Axes>"
                        ]
                    },
                    "metadata": {
                        "needs_background": "light"
                    },
                    "output_type": "display_data"
                }
            ],
            "source": [
                "l1, = plt.plot(bcdata_dict[\"u\"], bcdata_dict[\"lot1\"], \"o\", label=\"lot 1\")\n",
                "l2, = plt.plot(bcdata_dict[\"u\"], bcdata_dict[\"lot2\"], \"o\", label=\"lot 2\")\n",
                "\n",
                "#.set_title(\"Mean Clotting Times vs Plasma Concentration\")\n",
                "#.set_xlabel('Normal Plasma Concentration')\n",
                "#.set_ylabel('Blood Clotting Time')\n",
                "plt.suptitle(\"Mean Clotting Times vs Plasma Concentration\")\n",
                "plt.xlabel('Normal Plasma Concentration')\n",
                "plt.ylabel('Blood Clotting Time')\n",
                "\n",
                "#plt.set_xlabel('Normal Plasma Concentration')\n",
                "plt.legend(handles=[l1, l2])\n",
                "#fig.show()\n",
                "#plt.show()"
            ]
        },
        {
            "cell_type": "code",
            "execution_count": 6,
            "metadata": {},
            "outputs": [
                {
                    "data": {
                        "text/plain": [
                            "<matplotlib.legend.Legend at 0x151bef82140>"
                        ]
                    },
                    "execution_count": 6,
                    "metadata": {},
                    "output_type": "execute_result"
                },
                {
                    "data": {
                        "image/png": "[encoded data removed]",
                        "text/plain": [
                            "<Figure size 432x288 with 1 Axes>"
                        ]
                    },
                    "metadata": {
                        "needs_background": "light"
                    },
                    "output_type": "display_data"
                }
            ],
            "source": [
                "l1, = plt.plot(bc_data_X, bc_data_lot1, \"o\", label=\"lot 1\")\n",
                "l2, = plt.plot(bc_data_X, bc_data_lot2, \"o\", label=\"lot 2\")\n",
                "\n",
                "plt.suptitle(\"Mean Clotting Times vs Plasma Concentration\")\n",
                "plt.xlabel('Normal Plasma Concentration')\n",
                "plt.ylabel('Blood Clotting Time')\n",
                "\n",
                "\n",
                "plt.legend(handles=[l1, l2])"
            ]
        },
        {
            "cell_type": "markdown",
            "metadata": {},
            "source": [
                "After this preliminary data analysis, we fit two lines to the two lots of data. Using $x = \\log u$, we fit a GLM to the data.\n",
                "\n",
                "The original results were as follows, and we recreate regression coefficients within a standard deviation of these values: \n",
                "\n",
                "\\begin{align*}\n",
                "    \\text{lot 1:} \\quad & \\hat{\\mu} ^{-1} = - 0.01655(\\pm 0.00086) + 0.01534(\\pm 0.00143)x \\\\\n",
                "    \\text{lot 2:} \\quad & \\hat{\\mu} ^{-1} = - 0.02391(\\pm 0.00038) + 0.02360(\\pm 0.00062)x \\\\\n",
                "\\end{align*}\n",
                "\n",
                "As in previous work, we will fit two different linear models for each lot in the dataset. As usual, the $\\alpha$ parameter is the regression intercept and $\\mathbf{\\beta}$ is vector of regression coefficients and the parameter $\\sigma$ represents an auxiliary variable for the model. In this case, $\\sigma$ is the shape parameter for the Gamma distribution. "
            ]
        },
        {
            "cell_type": "code",
            "execution_count": 7,
            "metadata": {},
            "outputs": [
                {
                    "name": "stderr",
                    "output_type": "stream",
                    "text": [
                        "c:\\users\\alizm\\documents\\flatironinstitute\\sk-stan-regression\\scikit_stan\\utils\\validation.py:228: UserWarning: Passed data is one-dimensional, while estimator expects it to be at at least two-dimensional.\n",
                        "  warnings.warn(\n",
                        "c:\\users\\alizm\\documents\\flatironinstitute\\sk-stan-regression\\scikit_stan\\generalized_linear_regression\\glm.py:454: UserWarning: Prior on intercept not specified. Using default prior.\n",
                        "                alpha ~ normal(mu(y), 2.5 * sd(y)) if Gaussian family else normal(0, 2.5)\n",
                        "  else:\n",
                        "c:\\users\\alizm\\documents\\flatironinstitute\\sk-stan-regression\\scikit_stan\\generalized_linear_regression\\glm.py:488: UserWarning: Prior on auxiliary parameter not specified. Using default unscaled prior\n",
                        "                        sigma ~ exponential(1)\n",
                        "                    \n",
                        "  # uniform(-infinity, +infinity)\n",
                        "00:17:36 - cmdstanpy - INFO - CmdStan start processing\n",
                        "chain 1 |\u001b[33m          \u001b[0m| 00:00 Status\n",
                        "\u001b[A\n",
                        "\n",
                        "\u001b[A\u001b[A\n",
                        "chain 1 |\u001b[33m▉         \u001b[0m| 00:00 Iteration:    1 / 2000 [  0%]  (Warmup)\n",
                        "\n",
                        "\u001b[A\u001b[A\n",
                        "chain 1 |\u001b[33m████▌     \u001b[0m| 00:00 Iteration:  800 / 2000 [ 40%]  (Warmup)\n",
                        "\n",
                        "\u001b[A\u001b[A\n",
                        "chain 1 |\u001b[34m███████▎  \u001b[0m| 00:00 Iteration: 1300 / 2000 [ 65%]  (Sampling)\n",
                        "\n",
                        "\u001b[A\u001b[A\n",
                        "\u001b[A\n",
                        "\n",
                        "chain 1 |\u001b[34m██████████\u001b[0m| 00:00 Iteration: 1900 / 2000 [ 95%]  (Sampling)\n",
                        "\n",
                        "chain 1 |\u001b[34m██████████\u001b[0m| 00:00 Sampling completed                       \n",
                        "chain 2 |\u001b[34m██████████\u001b[0m| 00:00 Sampling completed                       \n",
                        "chain 3 |\u001b[34m██████████\u001b[0m| 00:00 Sampling completed                       \n",
                        "chain 4 |\u001b[34m██████████\u001b[0m| 00:00 Sampling completed                       "
                    ]
                },
                {
                    "name": "stdout",
                    "output_type": "stream",
                    "text": [
                        "                                                                                                                                                                                                                                                                                                                                "
                    ]
                },
                {
                    "name": "stderr",
                    "output_type": "stream",
                    "text": [
                        "\n",
                        "00:17:36 - cmdstanpy - INFO - CmdStan done processing.\n"
                    ]
                },
                {
                    "name": "stdout",
                    "output_type": "stream",
                    "text": [
                        "\n"
                    ]
                },
                {
                    "name": "stderr",
                    "output_type": "stream",
                    "text": [
                        "00:17:37 - cmdstanpy - WARNING - Some chains may have failed to converge.\n",
                        "\tChain 1 had 10 divergent transitions (1.0%)\n",
                        "\tChain 2 had 33 divergent transitions (3.3%)\n",
                        "\tChain 3 had 64 divergent transitions (6.4%)\n",
                        "\tChain 4 had 21 divergent transitions (2.1%)\n",
                        "\tUse function \"diagnose()\" to see further information.\n",
                        "00:17:37 - cmdstanpy - INFO - CmdStan start processing\n",
                        "chain 1 |\u001b[33m          \u001b[0m| 00:00 Status\n",
                        "\u001b[A\n",
                        "\n",
                        "\u001b[A\u001b[A\n",
                        "\n",
                        "\u001b[A\u001b[A\n",
                        "chain 1 |\u001b[33m█▎        \u001b[0m| 00:00 Iteration:  100 / 2000 [  5%]  (Warmup)\n",
                        "\n",
                        "\u001b[A\u001b[A\n",
                        "chain 1 |\u001b[34m█████▉    \u001b[0m| 00:00 Iteration: 1001 / 2000 [ 50%]  (Sampling)\n",
                        "\n",
                        "\u001b[A\u001b[A\n",
                        "chain 1 |\u001b[34m████████▋ \u001b[0m| 00:00 Iteration: 1600 / 2000 [ 80%]  (Sampling)\n",
                        "\n",
                        "\u001b[A\u001b[A\n",
                        "chain 1 |\u001b[34m██████████\u001b[0m| 00:00 Sampling completed                       \n",
                        "chain 2 |\u001b[34m██████████\u001b[0m| 00:00 Sampling completed                       \n",
                        "chain 3 |\u001b[34m██████████\u001b[0m| 00:00 Sampling completed                       \n",
                        "\n",
                        "\n",
                        "chain 4 |\u001b[34m██████████\u001b[0m| 00:00 Sampling completed"
                    ]
                },
                {
                    "name": "stdout",
                    "output_type": "stream",
                    "text": [
                        "                                                                                                                                                                                                                                                                                                                                "
                    ]
                },
                {
                    "name": "stderr",
                    "output_type": "stream",
                    "text": [
                        "\n",
                        "00:17:37 - cmdstanpy - INFO - CmdStan done processing.\n",
                        "00:17:38 - cmdstanpy - WARNING - Some chains may have failed to converge.\n",
                        "\tChain 1 had 17 divergent transitions (1.7%)\n",
                        "\tChain 2 had 11 divergent transitions (1.1%)\n",
                        "\tChain 3 had 14 divergent transitions (1.4%)\n",
                        "\tChain 4 had 70 divergent transitions (7.0%)\n",
                        "\tUse function \"diagnose()\" to see further information.\n"
                    ]
                },
                {
                    "name": "stdout",
                    "output_type": "stream",
                    "text": [
                        "\n",
                        "-0.014271613896550775 [0.01507462]\n",
                        "-0.020816165767206348 [0.02326164]\n"
                    ]
                }
            ],
            "source": [
                "# Initialize two different GLM objects, one for each lot. \n",
                "glm_gamma1 = GLM(family=\"gamma\", link=\"inverse\", seed=1234)\n",
                "glm_gamma2 = GLM(family=\"gamma\", link=\"inverse\", seed=1234)\n",
                "\n",
                "# Fit the model. Note that default priors are used without autoscaling, see the \n",
                "# API to see how to change these.\n",
                "glm_gamma1.fit(bc_data_X, bc_data_lot1, show_console=False)\n",
                "glm_gamma2.fit(bc_data_X, bc_data_lot2, show_console=False)\n",
                "\n",
                "print(glm_gamma1.alpha_, glm_gamma1.beta_)\n",
                "print(glm_gamma2.alpha_, glm_gamma2.beta_)\n"
            ]
        },
        {
            "cell_type": "markdown",
            "metadata": {},
            "source": [
                "As can be seen above, the fitted model has the following parameters, which are within one standard deviation of the results from past studies.\n",
                "\n",
                "\\begin{align}\n",
                "    \\text{lot 1:} \\quad & \\hat{\\mu} ^{-1} = - 0.01437 + 0.01511 \\cdot x \\\\\n",
                "    \\text{lot 2:} \\quad & \\hat{\\mu} ^{-1} = - 0.02016 + 0.02301 \\cdot x \\\\\n",
                "\\end{align}\n",
                "\n",
                "As a verification of the accuracy of the fitted model, we can plot the fitted lines and the data."
            ]
        },
        {
            "cell_type": "code",
            "execution_count": null,
            "metadata": {},
            "outputs": [],
            "source": [
                "mu_inv1 = 1 /( glm_gamma1.alpha_ + glm_gamma1.beta_ * bc_data_X)\n",
                "mu_inv2 = 1 /( glm_gamma2.alpha_ + glm_gamma2.beta_ * bc_data_X)"
            ]
        },
        {
            "cell_type": "code",
            "execution_count": null,
            "metadata": {},
            "outputs": [],
            "source": [
                "mlot1, = plt.plot(bc_data_X, mu_inv1, \"r\", label=\"mu_inv lot 1\")\n",
                "mlot2, = plt.plot(bc_data_X, mu_inv2, \"b\", label=\"mu_inv lot 2\")\n",
                "l1, = plt.plot(bc_data_X, bc_data_lot1, \"o\", label=\"lot1\")\n",
                "l2, = plt.plot(bc_data_X, bc_data_lot2, \"o\", label=\"lot2\")\n",
                "\n",
                "plt.suptitle(\"Mean Clotting Times vs Plasma Concentration\")\n",
                "plt.xlabel('Normal Plasma Concentration')\n",
                "plt.ylabel('Blood Clotting Time')\n",
                "\n",
                "plt.legend(handles=[mlot1, mlot2, l1, l2])\n"
            ]
        },
        {
            "cell_type": "markdown",
            "metadata": {},
            "source": [
                "As this package is a wrapper around CmdStanPy, we can gather additional statistics about the fitted model with methods from that package. In particular, we can consider further statistics about the model by using CmdStanPy's summary method on the results of the fit. \n",
                "\n",
                "Notice that $\\mu$ (\"mu\") and the link-inverted $\\mu$ (\"mu unlinked\") are included as part of the model summary. "
            ]
        },
        {
            "cell_type": "code",
            "execution_count": null,
            "metadata": {},
            "outputs": [],
            "source": [
                "glm_gamma1.fitted_samples_.summary()"
            ]
        },
        {
            "cell_type": "code",
            "execution_count": null,
            "metadata": {},
            "outputs": [],
            "source": [
                "glm_gamma2.fitted_samples_.summary()"
            ]
        },
        {
            "cell_type": "markdown",
            "metadata": {},
            "source": [
                "Additional information about the model and various visualizations can be revealed by Arviz, which seamlessly integrates with CmdStanPy components. Consider the following.  "
            ]
        },
        {
            "cell_type": "code",
            "execution_count": null,
            "metadata": {},
            "outputs": [],
            "source": [
                "import arviz as az\n",
                "az.style.use(\"arviz-darkgrid\")"
            ]
        },
        {
            "cell_type": "code",
            "execution_count": null,
            "metadata": {},
            "outputs": [],
            "source": [
                "infdata = az.from_cmdstanpy(glm_gamma1.fitted_samples_)\n",
                "infdata"
            ]
        },
        {
            "cell_type": "code",
            "execution_count": null,
            "metadata": {},
            "outputs": [],
            "source": [
                "az.plot_posterior(infdata, var_names=['alpha', 'beta', 'sigma']);"
            ]
        },
        {
            "cell_type": "code",
            "execution_count": null,
            "metadata": {},
            "outputs": [],
            "source": [
                "az.plot_trace(infdata, var_names=['alpha', 'beta', 'sigma'], compact=True);"
            ]
        }
    ],
    "metadata": {
        "kernelspec": {
            "display_name": "Python 3.10.4 ('cmdstan')",
            "language": "python",
            "name": "python3"
        },
        "language_info": {
            "codemirror_mode": {
                "name": "ipython",
                "version": 3
            },
            "file_extension": ".py",
            "mimetype": "text/x-python",
            "name": "python",
            "nbconvert_exporter": "python",
            "pygments_lexer": "ipython3",
            "version": "3.10.4"
        },
        "orig_nbformat": 4,
        "vscode": {
            "interpreter": {
                "hash": "6841cab2ed454da0bc145713c3d459e7dce979be0034cecaabee9f9f063ee1a2"
            }
        }
    },
    "nbformat": 4,
    "nbformat_minor": 2
}
